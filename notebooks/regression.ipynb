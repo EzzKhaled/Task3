{
  "cells": [
    {
      "cell_type": "markdown",
      "metadata": {},
      "source": [
        "##  Imports"
      ]
    },
    {
      "cell_type": "code",
      "execution_count": null,
      "metadata": {},
      "outputs": [],
      "source": [
        "import sys\n",
        "import os\n",
        "sys.path.append('../src')\n",
        "import numpy as np\n",
        "import pandas as pd\n",
        "import matplotlib.pyplot as plt\n",
        "import seaborn as sns\n",
        "from sklearn.model_selection import train_test_split\n",
        "from sklearn.preprocessing import StandardScaler\n",
        "from sklearn.linear_model import LinearRegression, Ridge, Lasso\n",
        "from sklearn.metrics import mean_squared_error, mean_absolute_error, r2_score\n",
        "plt.style.use('default')\n",
        "sns.set_palette(\"husl\")\n",
        "%matplotlib inline\n",
        "print(\"All libraries imported successfully!\")"
      ]
    },
    {
      "cell_type": "markdown",
      "metadata": {},
      "source": [
        "## Loading "
      ]
    },
    {
      "cell_type": "code",
      "execution_count": null,
      "metadata": {},
      "outputs": [],
      "source": [
        "\n",
        "file_path = \"../data/california_houses/California_Houses.csv\"\n",
        "data = pd.read_csv(file_path)\n",
        "print(\" DATASET OVERVIEW\")\n",
        "print(\"=\" * 50)\n",
        "print(f\"Dataset shape: {data.shape}\")\n",
        "print(f\"\\nColumns: {list(data.columns)}\")\n",
        "print(f\"\\nFirst 5 rows:\")\n",
        "data.head()"
      ]
    },
    {
      "cell_type": "markdown",
      "metadata": {},
      "source": [
        "##  Visualization"
      ]
    },
    {
      "cell_type": "code",
      "execution_count": null,
      "metadata": {},
      "outputs": [],
      "source": [
        "\n",
        "plt.figure(figsize=(12, 5))\n",
        "plt.subplot(1, 2, 1)\n",
        "plt.hist(data['Median_House_Value'], bins=50, alpha=0.7, edgecolor='black')\n",
        "plt.xlabel('Median House Value ($)')\n",
        "plt.ylabel('Frequency')\n",
        "plt.title('Distribution of House Prices')\n",
        "plt.grid(True, alpha=0.3)\n",
        "plt.subplot(1, 2, 2)\n",
        "plt.hist(data['Median_Income'], bins=50, alpha=0.7, edgecolor='black', color='orange')\n",
        "plt.xlabel('Median Income (Tens of Thousands $)')\n",
        "plt.ylabel('Frequency')\n",
        "plt.title('Distribution of Income')\n",
        "plt.grid(True, alpha=0.3)\n",
        "plt.tight_layout()\n",
        "plt.show()"
      ]
    },
    {
      "cell_type": "markdown",
      "metadata": {},
      "source": [
        "## Manual Regression "
      ]
    },
    {
      "cell_type": "code",
      "execution_count": null,
      "metadata": {},
      "outputs": [],
      "source": [
        "from src.models import ManualLinearRegression\n",
        "print(\" MANUAL REGRESSION IMPLEMENTATIONS\")\n",
        "print(\"=\" * 60)"
      ]
    },
    {
      "cell_type": "markdown",
      "metadata": {},
      "source": [
        "###  Manual Linear Regression"
      ]
    },
    {
      "cell_type": "code",
      "execution_count": null,
      "metadata": {},
      "outputs": [],
      "source": [
        "\n",
        "X_train_bias = np.c_[np.ones(X_train_scaled.shape[0]), X_train_scaled]\n",
        "X_val_bias = np.c_[np.ones(X_val_scaled.shape[0]), X_val_scaled]\n",
        "X_test_bias = np.c_[np.ones(X_test_scaled.shape[0]), X_test_scaled]\n",
        "manual_linear = ManualLinearRegression(alpha=0, regularization='none')\n",
        "manual_linear.fit(X_train_bias, y_train, method='normal')\n",
        "y_pred_manual_linear = manual_linear.predict(X_test_bias)\n",
        "mse_manual_linear = mean_squared_error(y_test, y_pred_manual_linear)\n",
        "mae_manual_linear = mean_absolute_error(y_test, y_pred_manual_linear)\n",
        "r2_manual_linear = r2_score(y_test, y_pred_manual_linear)\n",
        "print(\"MANUAL LINEAR REGRESSION RESULTS\")\n",
        "print(\"-\" * 40)\n",
        "print(f\"Mean Squared Error:  {mse_manual_linear:.2f}\")\n",
        "print(f\"Mean Absolute Error: ${mae_manual_linear:.2f}\")\n",
        "print(f\"R² Score:           {r2_manual_linear:.4f}\")\n",
        "print(f\"\\nModel explains {r2_manual_linear*100:.1f}% of house price variance\")"
      ]
    },
    {
      "cell_type": "markdown",
      "metadata": {},
      "source": [
        "##  Scikit-Learn Implementation"
      ]
    },
    {
      "cell_type": "code",
      "execution_count": null,
      "metadata": {},
      "outputs": [],
      "source": [
        "print(\" SCIKIT-LEARN IMPLEMENTATIONS\")\n",
        "print(\"=\" * 60)\n",
        "sklearn_linear = LinearRegression()\n",
        "sklearn_linear.fit(X_train_scaled, y_train)\n",
        "y_pred_sklearn_linear = sklearn_linear.predict(X_test_scaled)\n",
        "mse_sklearn_linear = mean_squared_error(y_test, y_pred_sklearn_linear)\n",
        "mae_sklearn_linear = mean_absolute_error(y_test, y_pred_sklearn_linear)\n",
        "r2_sklearn_linear = r2_score(y_test, y_pred_sklearn_linear)\n",
        "print(\" SCIKIT-LEARN LINEAR REGRESSION RESULTS\")\n",
        "print(\"-\" * 40)\n",
        "print(f\"Mean Squared Error:  {mse_sklearn_linear:.2f}\")\n",
        "print(f\"Mean Absolute Error: ${mae_sklearn_linear:.2f}\")\n",
        "print(f\"R² Score:           {r2_sklearn_linear:.4f}\")"
      ]
    },
    {
      "cell_type": "markdown",
      "metadata": {},
      "source": [
        "##   Comparison"
      ]
    },
    {
      "cell_type": "code",
      "execution_count": null,
      "metadata": {},
      "outputs": [],
      "source": [
        "\n",
        "models = ['Linear']\n",
        "manual_mses = [mse_manual_linear]\n",
        "sklearn_mses = [mse_sklearn_linear]\n",
        "manual_r2 = [r2_manual_linear]\n",
        "sklearn_r2 = [r2_sklearn_linear]\n",
        "fig, (ax1, ax2) = plt.subplots(1, 2, figsize=(15, 6))\n",
        "x = np.arange(len(models))\n",
        "width = 0.35\n",
        "ax1.bar(x - width/2, manual_mses, width, label='Manual', alpha=0.7, color='blue')\n",
        "ax1.bar(x + width/2, sklearn_mses, width, label='Scikit-Learn', alpha=0.7, color='red')\n",
        "ax1.set_xlabel('Regression Model')\n",
        "ax1.set_ylabel('Mean Squared Error')\n",
        "ax1.set_title('MSE Comparison: Manual vs Scikit-Learn')\n",
        "ax1.set_xticks(x)\n",
        "ax1.set_xticklabels(models)\n",
        "ax1.legend()\n",
        "ax1.grid(True, alpha=0.3, axis='y')\n",
        "ax2.bar(x - width/2, manual_r2, width, label='Manual', alpha=0.7, color='blue')\n",
        "ax2.bar(x + width/2, sklearn_r2, width, label='Scikit-Learn', alpha=0.7, color='red')\n",
        "ax2.set_xlabel('Regression Model')\n",
        "ax2.set_ylabel('R² Score')\n",
        "ax2.set_title('R² Comparison: Manual vs Scikit-Learn')\n",
        "ax2.set_xticks(x)\n",
        "ax2.set_xticklabels(models)\n",
        "ax2.legend()\n",
        "ax2.grid(True, alpha=0.3, axis='y')\n",
        "plt.tight_layout()\n",
        "plt.show()"
      ]
    },
    {
      "cell_type": "markdown",
      "metadata": {},
      "source": [
        "## Findings"
      ]
    },
    {
      "cell_type": "code",
      "execution_count": null,
      "metadata": {},
      "outputs": [],
      "source": [
        "print(\"🔍 KEY FINDINGS AND INSIGHTS\")\n",
        "print(\"=\" * 50)\n",
        "\n",
        "print(f\"\\n1. MODEL PERFORMANCE:\")\n",
        "print(f\"   • R² Score: {r2_manual_linear:.4f} ({r2_manual_linear*100:.1f}% variance explained)\")\n",
        "print(f\"   • Average prediction error: ${mae_manual_linear:.2f}\")\n",
        "\n",
        "print(f\"\\n2. IMPLEMENTATION ACCURACY:\")\n",
        "mse_difference = abs(mse_manual_linear - mse_sklearn_linear)\n",
        "print(f\"   • MSE difference: {mse_difference:.2f}\")\n",
        "print(f\"   • Manual vs Scikit-Learn: {'PERFECT MATCH' if mse_difference < 0.01 else 'EXCELLENT' if mse_difference < 1 else 'GOOD'}\")\n",
        "print(f\"\\n3. DATASET ANALYSIS:\")\n",
        "print(f\"   • Samples: {data.shape[0]}\")\n",
        "print(f\"   • Features: {data.shape[1] - 1}\")\n",
        "print(f\"   • Price range: ${data['Median_House_Value'].min():.0f} - ${data['Median_House_Value'].max():.0f}\")\n",
        "print(f\"\\nManual implementation matches scikit-learn!\")"
      ]
    }
  ],
  "metadata": {
    "kernelspec": {
      "display_name": "Python 3",
      "language": "python",
      "name": "python3"
    },
    "language_info": {
      "codemirror_mode": {
        "name": "ipython",
        "version": 3
      },
      "file_extension": ".py",
      "mimetype": "text/x-python",
      "name": "python",
      "nbconvert_exporter": "python",
      "pygments_lexer": "ipython3",
      "version": "3.8.0"
    }
  },
  "nbformat": 4,
  "nbformat_minor": 4
}
